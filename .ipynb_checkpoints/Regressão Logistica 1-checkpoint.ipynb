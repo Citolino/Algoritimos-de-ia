{
 "cells": [
  {
   "cell_type": "code",
   "execution_count": 1,
   "id": "80a0659d",
   "metadata": {},
   "outputs": [],
   "source": [
    "import pandas as pd\n",
    "import numpy as np\n",
    "import matplotlib.pyplot as plt\n",
    "import seaborn as sns\n",
    "%matplotlib inline"
   ]
  },
  {
   "cell_type": "code",
   "execution_count": 3,
   "id": "9eec158d",
   "metadata": {},
   "outputs": [],
   "source": [
    "\n",
    "obj = {'Distância (m)': [0.0865,0.1015,0.1106,0.1279,0.1892,0.2695,\n",
    "                         0.2888,0.2425,0.3465,0.3225,0.3764,0.4263,\n",
    "                         0.4562,0.4491,0.4489,0.4501,0.4392,0.4295,0.4323,], \n",
    "       'Massa (kg)': [0.10,0.15,0.20,0.25,0.30,0.35,\n",
    "                      0.40,0.45,0.50,0.55,0.60,0.65,\n",
    "                      0.70,0.75,0.80,0.85,0.90,0.95,1.00,]\n",
    "      }"
   ]
  },
  {
   "cell_type": "code",
   "execution_count": 6,
   "id": "133dd7f4",
   "metadata": {
    "scrolled": true
   },
   "outputs": [
    {
     "data": {
      "text/html": [
       "<div>\n",
       "<style scoped>\n",
       "    .dataframe tbody tr th:only-of-type {\n",
       "        vertical-align: middle;\n",
       "    }\n",
       "\n",
       "    .dataframe tbody tr th {\n",
       "        vertical-align: top;\n",
       "    }\n",
       "\n",
       "    .dataframe thead th {\n",
       "        text-align: right;\n",
       "    }\n",
       "</style>\n",
       "<table border=\"1\" class=\"dataframe\">\n",
       "  <thead>\n",
       "    <tr style=\"text-align: right;\">\n",
       "      <th></th>\n",
       "      <th>Distância (m)</th>\n",
       "      <th>Massa (kg)</th>\n",
       "      <th>-k</th>\n",
       "    </tr>\n",
       "  </thead>\n",
       "  <tbody>\n",
       "    <tr>\n",
       "      <th>0</th>\n",
       "      <td>0.0865</td>\n",
       "      <td>0.10</td>\n",
       "      <td>-11.329480</td>\n",
       "    </tr>\n",
       "    <tr>\n",
       "      <th>1</th>\n",
       "      <td>0.1015</td>\n",
       "      <td>0.15</td>\n",
       "      <td>-14.482759</td>\n",
       "    </tr>\n",
       "    <tr>\n",
       "      <th>2</th>\n",
       "      <td>0.1106</td>\n",
       "      <td>0.20</td>\n",
       "      <td>-17.721519</td>\n",
       "    </tr>\n",
       "    <tr>\n",
       "      <th>3</th>\n",
       "      <td>0.1279</td>\n",
       "      <td>0.25</td>\n",
       "      <td>-19.155590</td>\n",
       "    </tr>\n",
       "    <tr>\n",
       "      <th>4</th>\n",
       "      <td>0.1892</td>\n",
       "      <td>0.30</td>\n",
       "      <td>-15.539112</td>\n",
       "    </tr>\n",
       "    <tr>\n",
       "      <th>5</th>\n",
       "      <td>0.2695</td>\n",
       "      <td>0.35</td>\n",
       "      <td>-12.727273</td>\n",
       "    </tr>\n",
       "    <tr>\n",
       "      <th>6</th>\n",
       "      <td>0.2888</td>\n",
       "      <td>0.40</td>\n",
       "      <td>-13.573407</td>\n",
       "    </tr>\n",
       "    <tr>\n",
       "      <th>7</th>\n",
       "      <td>0.2425</td>\n",
       "      <td>0.45</td>\n",
       "      <td>-18.185567</td>\n",
       "    </tr>\n",
       "    <tr>\n",
       "      <th>8</th>\n",
       "      <td>0.3465</td>\n",
       "      <td>0.50</td>\n",
       "      <td>-14.141414</td>\n",
       "    </tr>\n",
       "    <tr>\n",
       "      <th>9</th>\n",
       "      <td>0.3225</td>\n",
       "      <td>0.55</td>\n",
       "      <td>-16.713178</td>\n",
       "    </tr>\n",
       "    <tr>\n",
       "      <th>10</th>\n",
       "      <td>0.3764</td>\n",
       "      <td>0.60</td>\n",
       "      <td>-15.621679</td>\n",
       "    </tr>\n",
       "    <tr>\n",
       "      <th>11</th>\n",
       "      <td>0.4263</td>\n",
       "      <td>0.65</td>\n",
       "      <td>-14.942529</td>\n",
       "    </tr>\n",
       "    <tr>\n",
       "      <th>12</th>\n",
       "      <td>0.4562</td>\n",
       "      <td>0.70</td>\n",
       "      <td>-15.037264</td>\n",
       "    </tr>\n",
       "    <tr>\n",
       "      <th>13</th>\n",
       "      <td>0.4491</td>\n",
       "      <td>0.75</td>\n",
       "      <td>-16.366065</td>\n",
       "    </tr>\n",
       "    <tr>\n",
       "      <th>14</th>\n",
       "      <td>0.4489</td>\n",
       "      <td>0.80</td>\n",
       "      <td>-17.464914</td>\n",
       "    </tr>\n",
       "    <tr>\n",
       "      <th>15</th>\n",
       "      <td>0.4501</td>\n",
       "      <td>0.85</td>\n",
       "      <td>-18.506998</td>\n",
       "    </tr>\n",
       "    <tr>\n",
       "      <th>16</th>\n",
       "      <td>0.4392</td>\n",
       "      <td>0.90</td>\n",
       "      <td>-20.081967</td>\n",
       "    </tr>\n",
       "    <tr>\n",
       "      <th>17</th>\n",
       "      <td>0.4295</td>\n",
       "      <td>0.95</td>\n",
       "      <td>-21.676368</td>\n",
       "    </tr>\n",
       "    <tr>\n",
       "      <th>18</th>\n",
       "      <td>0.4323</td>\n",
       "      <td>1.00</td>\n",
       "      <td>-22.669443</td>\n",
       "    </tr>\n",
       "  </tbody>\n",
       "</table>\n",
       "</div>"
      ],
      "text/plain": [
       "    Distância (m)  Massa (kg)         -k\n",
       "0          0.0865        0.10 -11.329480\n",
       "1          0.1015        0.15 -14.482759\n",
       "2          0.1106        0.20 -17.721519\n",
       "3          0.1279        0.25 -19.155590\n",
       "4          0.1892        0.30 -15.539112\n",
       "5          0.2695        0.35 -12.727273\n",
       "6          0.2888        0.40 -13.573407\n",
       "7          0.2425        0.45 -18.185567\n",
       "8          0.3465        0.50 -14.141414\n",
       "9          0.3225        0.55 -16.713178\n",
       "10         0.3764        0.60 -15.621679\n",
       "11         0.4263        0.65 -14.942529\n",
       "12         0.4562        0.70 -15.037264\n",
       "13         0.4491        0.75 -16.366065\n",
       "14         0.4489        0.80 -17.464914\n",
       "15         0.4501        0.85 -18.506998\n",
       "16         0.4392        0.90 -20.081967\n",
       "17         0.4295        0.95 -21.676368\n",
       "18         0.4323        1.00 -22.669443"
      ]
     },
     "execution_count": 6,
     "metadata": {},
     "output_type": "execute_result"
    }
   ],
   "source": [
    "dados = pd.DataFrame(data=obj)\n",
    "\n",
    "# F = -kd\n",
    "# -k = F/d\n",
    "# -k = (m*a)/d\n",
    "\n",
    "F = (dados[\"Massa (kg)\"] * 9.8)\n",
    "d = dados[\"Distância (m)\"]\n",
    "dados[\"-k\"] = -(F/d)\n",
    "\n",
    "dados"
   ]
  },
  {
   "cell_type": "code",
   "execution_count": 7,
   "id": "13f679e5",
   "metadata": {},
   "outputs": [
    {
     "data": {
      "text/plain": [
       "<seaborn.axisgrid.PairGrid at 0x238d56c0250>"
      ]
     },
     "execution_count": 7,
     "metadata": {},
     "output_type": "execute_result"
    },
    {
     "data": {
      "image/png": "[encoded data removed]",
      "text/plain": [
       "<Figure size 540x540 with 12 Axes>"
      ]
     },
     "metadata": {
      "needs_background": "light"
     },
     "output_type": "display_data"
    }
   ],
   "source": [
    "sns.pairplot(dados)"
   ]
  },
  {
   "cell_type": "code",
   "execution_count": 9,
   "id": "e165c395",
   "metadata": {},
   "outputs": [
    {
     "data": {
      "text/plain": [
       "<AxesSubplot:xlabel='Massa (kg)', ylabel='Distância (m)'>"
      ]
     },
     "execution_count": 9,
     "metadata": {},
     "output_type": "execute_result"
    },
    {
     "data": {
      "image/png": "[encoded data removed]",
      "text/plain": [
       "<Figure size 432x288 with 1 Axes>"
      ]
     },
     "metadata": {
      "needs_background": "light"
     },
     "output_type": "display_data"
    }
   ],
   "source": [
    "sns.scatterplot(x=\"Massa (kg)\",y=\"Distância (m)\",data=dados, hue = \"-k\")"
   ]
  },
  {
   "cell_type": "code",
   "execution_count": 50,
   "id": "486e16f5",
   "metadata": {},
   "outputs": [
    {
     "name": "stdout",
     "output_type": "stream",
     "text": [
      "Treinaremos com 13 elementos e testaremos com 6 elementos\n"
     ]
    },
    {
     "data": {
      "text/html": [
       "<div>\n",
       "<style scoped>\n",
       "    .dataframe tbody tr th:only-of-type {\n",
       "        vertical-align: middle;\n",
       "    }\n",
       "\n",
       "    .dataframe tbody tr th {\n",
       "        vertical-align: top;\n",
       "    }\n",
       "\n",
       "    .dataframe thead th {\n",
       "        text-align: right;\n",
       "    }\n",
       "</style>\n",
       "<table border=\"1\" class=\"dataframe\">\n",
       "  <thead>\n",
       "    <tr style=\"text-align: right;\">\n",
       "      <th></th>\n",
       "      <th>previsão</th>\n",
       "      <th>real</th>\n",
       "    </tr>\n",
       "  </thead>\n",
       "  <tbody>\n",
       "    <tr>\n",
       "      <th>3</th>\n",
       "      <td>-16.808381</td>\n",
       "      <td>-19.155590</td>\n",
       "    </tr>\n",
       "    <tr>\n",
       "      <th>14</th>\n",
       "      <td>-17.463307</td>\n",
       "      <td>-17.464914</td>\n",
       "    </tr>\n",
       "    <tr>\n",
       "      <th>1</th>\n",
       "      <td>-15.420500</td>\n",
       "      <td>-14.482759</td>\n",
       "    </tr>\n",
       "    <tr>\n",
       "      <th>2</th>\n",
       "      <td>-16.277191</td>\n",
       "      <td>-17.721519</td>\n",
       "    </tr>\n",
       "    <tr>\n",
       "      <th>0</th>\n",
       "      <td>-14.798010</td>\n",
       "      <td>-11.329480</td>\n",
       "    </tr>\n",
       "    <tr>\n",
       "      <th>16</th>\n",
       "      <td>-20.284186</td>\n",
       "      <td>-20.081967</td>\n",
       "    </tr>\n",
       "  </tbody>\n",
       "</table>\n",
       "</div>"
      ],
      "text/plain": [
       "     previsão       real\n",
       "3  -16.808381 -19.155590\n",
       "14 -17.463307 -17.464914\n",
       "1  -15.420500 -14.482759\n",
       "2  -16.277191 -17.721519\n",
       "0  -14.798010 -11.329480\n",
       "16 -20.284186 -20.081967"
      ]
     },
     "execution_count": 50,
     "metadata": {},
     "output_type": "execute_result"
    }
   ],
   "source": [
    "from sklearn.model_selection import train_test_split\n",
    "from sklearn.linear_model import LinearRegression\n",
    "from sklearn.metrics import accuracy_score\n",
    "\n",
    "x = dados[[\"Massa (kg)\",\"Distância (m)\"]]\n",
    "y= dados[\"-k\"]\n",
    "\n",
    "SEED = 101\n",
    "\n",
    "treino_x, teste_x, treino_y, teste_y = train_test_split(x, y,\n",
    "                                                         random_state = SEED, test_size = 0.3\n",
    "                                                         )\n",
    "print(\"Treinaremos com %d elementos e testaremos com %d elementos\" % (len(treino_x), len(teste_x)))\n",
    "\n",
    "modelo = LinearRegression()\n",
    "modelo.fit(treino_x, treino_y)\n",
    "previsoes = modelo.predict(teste_x)\n",
    "\n",
    "coeffecients = pd.DataFrame({'previsão':previsoes,'real':teste_y})\n",
    "\n",
    "coeffecients"
   ]
  },
  {
   "cell_type": "code",
   "execution_count": 54,
   "id": "148e81d4",
   "metadata": {},
   "outputs": [
    {
     "data": {
      "text/html": [
       "<div>\n",
       "<style scoped>\n",
       "    .dataframe tbody tr th:only-of-type {\n",
       "        vertical-align: middle;\n",
       "    }\n",
       "\n",
       "    .dataframe tbody tr th {\n",
       "        vertical-align: top;\n",
       "    }\n",
       "\n",
       "    .dataframe thead th {\n",
       "        text-align: right;\n",
       "    }\n",
       "</style>\n",
       "<table border=\"1\" class=\"dataframe\">\n",
       "  <thead>\n",
       "    <tr style=\"text-align: right;\">\n",
       "      <th></th>\n",
       "      <th>Coeficiente:</th>\n",
       "      <th>Feature</th>\n",
       "    </tr>\n",
       "  </thead>\n",
       "  <tbody>\n",
       "    <tr>\n",
       "      <th>0</th>\n",
       "      <td>-24.358354</td>\n",
       "      <td>Massa (kg)</td>\n",
       "    </tr>\n",
       "    <tr>\n",
       "      <th>1</th>\n",
       "      <td>39.695229</td>\n",
       "      <td>Distância (m)</td>\n",
       "    </tr>\n",
       "  </tbody>\n",
       "</table>\n",
       "</div>"
      ],
      "text/plain": [
       "   Coeficiente:        Feature\n",
       "0    -24.358354     Massa (kg)\n",
       "1     39.695229  Distância (m)"
      ]
     },
     "execution_count": 54,
     "metadata": {},
     "output_type": "execute_result"
    }
   ],
   "source": [
    "coeffecients = pd.DataFrame({'Coeficiente:':modelo.coef_,'Feature':x.columns})\n",
    "coeffecients"
   ]
  },
  {
   "cell_type": "code",
   "execution_count": 56,
   "id": "fa2b4fa8",
   "metadata": {},
   "outputs": [
    {
     "name": "stdout",
     "output_type": "stream",
     "text": [
      "Bias w0: -15.795812394970488\n"
     ]
    }
   ],
   "source": [
    "print('Bias w0:', modelo.intercept_)"
   ]
  },
  {
   "cell_type": "code",
   "execution_count": null,
   "id": "4e2fcfaf",
   "metadata": {},
   "outputs": [],
   "source": []
  },
  {
   "cell_type": "code",
   "execution_count": null,
   "id": "27671bdc",
   "metadata": {},
   "outputs": [],
   "source": []
  },
  {
   "cell_type": "code",
   "execution_count": 57,
   "id": "6b37d795",
   "metadata": {},
   "outputs": [
    {
     "ename": "NameError",
     "evalue": "name 'Y_test' is not defined",
     "output_type": "error",
     "traceback": [
      "\u001b[1;31m---------------------------------------------------------------------------\u001b[0m",
      "\u001b[1;31mNameError\u001b[0m                                 Traceback (most recent call last)",
      "\u001b[1;32m<ipython-input-57-380bf2f4f8a0>\u001b[0m in \u001b[0;36m<module>\u001b[1;34m\u001b[0m\n\u001b[0;32m      1\u001b[0m \u001b[1;32mfrom\u001b[0m \u001b[0msklearn\u001b[0m \u001b[1;32mimport\u001b[0m \u001b[0mmetrics\u001b[0m\u001b[1;33m\u001b[0m\u001b[1;33m\u001b[0m\u001b[0m\n\u001b[1;32m----> 2\u001b[1;33m \u001b[0mprint\u001b[0m\u001b[1;33m(\u001b[0m\u001b[1;34m'MAE:'\u001b[0m\u001b[1;33m,\u001b[0m \u001b[0mmetrics\u001b[0m\u001b[1;33m.\u001b[0m\u001b[0mmean_absolute_error\u001b[0m\u001b[1;33m(\u001b[0m\u001b[0mY_test\u001b[0m\u001b[1;33m,\u001b[0m \u001b[0mpredictions\u001b[0m\u001b[1;33m)\u001b[0m\u001b[1;33m)\u001b[0m\u001b[1;33m\u001b[0m\u001b[1;33m\u001b[0m\u001b[0m\n\u001b[0m\u001b[0;32m      3\u001b[0m \u001b[0mprint\u001b[0m\u001b[1;33m(\u001b[0m\u001b[1;34m'MSE:'\u001b[0m\u001b[1;33m,\u001b[0m \u001b[0mmetrics\u001b[0m\u001b[1;33m.\u001b[0m\u001b[0mmean_squared_error\u001b[0m\u001b[1;33m(\u001b[0m\u001b[0mY_test\u001b[0m\u001b[1;33m,\u001b[0m \u001b[0mpredictions\u001b[0m\u001b[1;33m)\u001b[0m\u001b[1;33m)\u001b[0m\u001b[1;33m\u001b[0m\u001b[1;33m\u001b[0m\u001b[0m\n\u001b[0;32m      4\u001b[0m \u001b[0mprint\u001b[0m\u001b[1;33m(\u001b[0m\u001b[1;34m'RMSE:'\u001b[0m\u001b[1;33m,\u001b[0m \u001b[0mnp\u001b[0m\u001b[1;33m.\u001b[0m\u001b[0msqrt\u001b[0m\u001b[1;33m(\u001b[0m\u001b[0mmetrics\u001b[0m\u001b[1;33m.\u001b[0m\u001b[0mmean_squared_error\u001b[0m\u001b[1;33m(\u001b[0m\u001b[0mY_test\u001b[0m\u001b[1;33m,\u001b[0m \u001b[0mpredictions\u001b[0m\u001b[1;33m)\u001b[0m\u001b[1;33m)\u001b[0m\u001b[1;33m)\u001b[0m\u001b[1;33m\u001b[0m\u001b[1;33m\u001b[0m\u001b[0m\n",
      "\u001b[1;31mNameError\u001b[0m: name 'Y_test' is not defined"
     ]
    }
   ],
   "source": [
    "from sklearn import metrics\n",
    "print('MAE:', metrics.mean_absolute_error(teste_y, predictions))\n",
    "print('MSE:', metrics.mean_squared_error(test_y, predictions))\n",
    "print('RMSE:', np.sqrt(metrics.mean_squared_error(test_y, )))"
   ]
  }
 ],
 "metadata": {
  "kernelspec": {
   "display_name": "Python 3",
   "language": "python",
   "name": "python3"
  },
  "language_info": {
   "codemirror_mode": {
    "name": "ipython",
    "version": 3
   },
   "file_extension": ".py",
   "mimetype": "text/x-python",
   "name": "python",
   "nbconvert_exporter": "python",
   "pygments_lexer": "ipython3",
   "version": "3.8.8"
  }
 },
 "nbformat": 4,
 "nbformat_minor": 5
}
