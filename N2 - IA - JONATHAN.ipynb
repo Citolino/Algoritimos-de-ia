{
 "cells": [
  {
   "cell_type": "markdown",
   "metadata": {},
   "source": [
    "## Prova N2 - Inteligência Artificial\n",
    "\n",
    "### Nome: JONATHAN CITOLINO\n",
    "\n",
    "### RA: 082170019"
   ]
  },
  {
   "cell_type": "code",
   "execution_count": 1,
   "metadata": {},
   "outputs": [],
   "source": [
    "import pandas as pd\n",
    "import numpy as np\n",
    "import matplotlib.pyplot as plt\n",
    "import seaborn as sns\n",
    "%matplotlib inline"
   ]
  },
  {
   "cell_type": "markdown",
   "metadata": {},
   "source": [
    "## Base de dados :"
   ]
  },
  {
   "cell_type": "code",
   "execution_count": 2,
   "metadata": {},
   "outputs": [
    {
     "name": "stderr",
     "output_type": "stream",
     "text": [
      "C:\\Users\\Usuario\\anaconda3\\lib\\site-packages\\openpyxl\\worksheet\\_reader.py:312: UserWarning: Unknown extension is not supported and will be removed\n",
      "  warn(msg)\n"
     ]
    },
    {
     "data": {
      "text/html": [
       "<div>\n",
       "<style scoped>\n",
       "    .dataframe tbody tr th:only-of-type {\n",
       "        vertical-align: middle;\n",
       "    }\n",
       "\n",
       "    .dataframe tbody tr th {\n",
       "        vertical-align: top;\n",
       "    }\n",
       "\n",
       "    .dataframe thead th {\n",
       "        text-align: right;\n",
       "    }\n",
       "</style>\n",
       "<table border=\"1\" class=\"dataframe\">\n",
       "  <thead>\n",
       "    <tr style=\"text-align: right;\">\n",
       "      <th></th>\n",
       "      <th>sobrevivente</th>\n",
       "      <th>classe_da_passagem</th>\n",
       "      <th>nome_passageiro</th>\n",
       "      <th>sexo</th>\n",
       "      <th>idade</th>\n",
       "      <th>irmaos_ou_esposa_a_bordo</th>\n",
       "      <th>pais_filhos_a_bordo</th>\n",
       "      <th>valor_passagem</th>\n",
       "      <th>local_de_embarque</th>\n",
       "    </tr>\n",
       "  </thead>\n",
       "  <tbody>\n",
       "    <tr>\n",
       "      <th>0</th>\n",
       "      <td>nao</td>\n",
       "      <td>3</td>\n",
       "      <td>Braund, Mr. Owen Harris</td>\n",
       "      <td>male</td>\n",
       "      <td>22.0</td>\n",
       "      <td>1</td>\n",
       "      <td>0</td>\n",
       "      <td>7.25</td>\n",
       "      <td>S</td>\n",
       "    </tr>\n",
       "    <tr>\n",
       "      <th>1</th>\n",
       "      <td>sim</td>\n",
       "      <td>1</td>\n",
       "      <td>Cumings, Mrs. John Bradley (Florence Briggs Th...</td>\n",
       "      <td>female</td>\n",
       "      <td>38.0</td>\n",
       "      <td>1</td>\n",
       "      <td>0</td>\n",
       "      <td>712833.00</td>\n",
       "      <td>C</td>\n",
       "    </tr>\n",
       "    <tr>\n",
       "      <th>2</th>\n",
       "      <td>sim</td>\n",
       "      <td>3</td>\n",
       "      <td>Heikkinen, Miss. Laina</td>\n",
       "      <td>female</td>\n",
       "      <td>26.0</td>\n",
       "      <td>0</td>\n",
       "      <td>0</td>\n",
       "      <td>7925.00</td>\n",
       "      <td>S</td>\n",
       "    </tr>\n",
       "    <tr>\n",
       "      <th>3</th>\n",
       "      <td>sim</td>\n",
       "      <td>1</td>\n",
       "      <td>Futrelle, Mrs. Jacques Heath (Lily May Peel)</td>\n",
       "      <td>female</td>\n",
       "      <td>35.0</td>\n",
       "      <td>1</td>\n",
       "      <td>0</td>\n",
       "      <td>53.10</td>\n",
       "      <td>S</td>\n",
       "    </tr>\n",
       "    <tr>\n",
       "      <th>4</th>\n",
       "      <td>nao</td>\n",
       "      <td>3</td>\n",
       "      <td>Allen, Mr. William Henry</td>\n",
       "      <td>male</td>\n",
       "      <td>35.0</td>\n",
       "      <td>0</td>\n",
       "      <td>0</td>\n",
       "      <td>8.05</td>\n",
       "      <td>S</td>\n",
       "    </tr>\n",
       "  </tbody>\n",
       "</table>\n",
       "</div>"
      ],
      "text/plain": [
       "  sobrevivente  classe_da_passagem  \\\n",
       "0          nao                   3   \n",
       "1          sim                   1   \n",
       "2          sim                   3   \n",
       "3          sim                   1   \n",
       "4          nao                   3   \n",
       "\n",
       "                                     nome_passageiro    sexo  idade  \\\n",
       "0                            Braund, Mr. Owen Harris    male   22.0   \n",
       "1  Cumings, Mrs. John Bradley (Florence Briggs Th...  female   38.0   \n",
       "2                             Heikkinen, Miss. Laina  female   26.0   \n",
       "3       Futrelle, Mrs. Jacques Heath (Lily May Peel)  female   35.0   \n",
       "4                           Allen, Mr. William Henry    male   35.0   \n",
       "\n",
       "   irmaos_ou_esposa_a_bordo  pais_filhos_a_bordo  valor_passagem  \\\n",
       "0                         1                    0            7.25   \n",
       "1                         1                    0       712833.00   \n",
       "2                         0                    0         7925.00   \n",
       "3                         1                    0           53.10   \n",
       "4                         0                    0            8.05   \n",
       "\n",
       "  local_de_embarque  \n",
       "0                 S  \n",
       "1                 C  \n",
       "2                 S  \n",
       "3                 S  \n",
       "4                 S  "
      ]
     },
     "execution_count": 2,
     "metadata": {},
     "output_type": "execute_result"
    }
   ],
   "source": [
    "base = pd.read_excel('titanic_reduced_database_ready.xlsx')\n",
    "\n",
    "base.head()"
   ]
  },
  {
   "cell_type": "markdown",
   "metadata": {},
   "source": [
    "## Conversão de features :"
   ]
  },
  {
   "cell_type": "code",
   "execution_count": 3,
   "metadata": {},
   "outputs": [
    {
     "data": {
      "text/html": [
       "<div>\n",
       "<style scoped>\n",
       "    .dataframe tbody tr th:only-of-type {\n",
       "        vertical-align: middle;\n",
       "    }\n",
       "\n",
       "    .dataframe tbody tr th {\n",
       "        vertical-align: top;\n",
       "    }\n",
       "\n",
       "    .dataframe thead th {\n",
       "        text-align: right;\n",
       "    }\n",
       "</style>\n",
       "<table border=\"1\" class=\"dataframe\">\n",
       "  <thead>\n",
       "    <tr style=\"text-align: right;\">\n",
       "      <th></th>\n",
       "      <th>classe_da_passagem</th>\n",
       "      <th>idade</th>\n",
       "      <th>irmaos_ou_esposa_a_bordo</th>\n",
       "      <th>pais_filhos_a_bordo</th>\n",
       "      <th>valor_passagem</th>\n",
       "      <th>homem</th>\n",
       "      <th>sobrevivente</th>\n",
       "    </tr>\n",
       "  </thead>\n",
       "  <tbody>\n",
       "    <tr>\n",
       "      <th>0</th>\n",
       "      <td>3</td>\n",
       "      <td>22.0</td>\n",
       "      <td>1</td>\n",
       "      <td>0</td>\n",
       "      <td>7.25</td>\n",
       "      <td>1</td>\n",
       "      <td>0</td>\n",
       "    </tr>\n",
       "    <tr>\n",
       "      <th>1</th>\n",
       "      <td>1</td>\n",
       "      <td>38.0</td>\n",
       "      <td>1</td>\n",
       "      <td>0</td>\n",
       "      <td>712833.00</td>\n",
       "      <td>0</td>\n",
       "      <td>1</td>\n",
       "    </tr>\n",
       "    <tr>\n",
       "      <th>2</th>\n",
       "      <td>3</td>\n",
       "      <td>26.0</td>\n",
       "      <td>0</td>\n",
       "      <td>0</td>\n",
       "      <td>7925.00</td>\n",
       "      <td>0</td>\n",
       "      <td>1</td>\n",
       "    </tr>\n",
       "    <tr>\n",
       "      <th>3</th>\n",
       "      <td>1</td>\n",
       "      <td>35.0</td>\n",
       "      <td>1</td>\n",
       "      <td>0</td>\n",
       "      <td>53.10</td>\n",
       "      <td>0</td>\n",
       "      <td>1</td>\n",
       "    </tr>\n",
       "    <tr>\n",
       "      <th>4</th>\n",
       "      <td>3</td>\n",
       "      <td>35.0</td>\n",
       "      <td>0</td>\n",
       "      <td>0</td>\n",
       "      <td>8.05</td>\n",
       "      <td>1</td>\n",
       "      <td>0</td>\n",
       "    </tr>\n",
       "  </tbody>\n",
       "</table>\n",
       "</div>"
      ],
      "text/plain": [
       "   classe_da_passagem  idade  irmaos_ou_esposa_a_bordo  pais_filhos_a_bordo  \\\n",
       "0                   3   22.0                         1                    0   \n",
       "1                   1   38.0                         1                    0   \n",
       "2                   3   26.0                         0                    0   \n",
       "3                   1   35.0                         1                    0   \n",
       "4                   3   35.0                         0                    0   \n",
       "\n",
       "   valor_passagem  homem  sobrevivente  \n",
       "0            7.25      1             0  \n",
       "1       712833.00      0             1  \n",
       "2         7925.00      0             1  \n",
       "3           53.10      0             1  \n",
       "4            8.05      1             0  "
      ]
     },
     "execution_count": 3,
     "metadata": {},
     "output_type": "execute_result"
    }
   ],
   "source": [
    "sexo = pd.get_dummies(base['sexo'], drop_first = True)\n",
    "\n",
    "sobrevivente = pd.get_dummies(base['sobrevivente'], drop_first = True)\n",
    "\n",
    "base.drop(['nome_passageiro', 'sexo', 'local_de_embarque', 'sobrevivente'], axis = 1, inplace = True)\n",
    "\n",
    "base = pd.concat([base, sexo, sobrevivente], axis = 1)\n",
    "\n",
    "base.rename(columns = {'sim': 'sobrevivente', 'male': 'homem'}, inplace = True)\n",
    "\n",
    "base.head()\n"
   ]
  },
  {
   "cell_type": "markdown",
   "metadata": {},
   "source": [
    "## Classificador:"
   ]
  },
  {
   "cell_type": "code",
   "execution_count": 4,
   "metadata": {},
   "outputs": [
    {
     "data": {
      "text/plain": [
       "LogisticRegression()"
      ]
     },
     "execution_count": 4,
     "metadata": {},
     "output_type": "execute_result"
    }
   ],
   "source": [
    "from sklearn.model_selection import train_test_split\n",
    "from sklearn.linear_model import LogisticRegression\n",
    "\n",
    "y = base['sobrevivente'] \n",
    "x = base[['classe_da_passagem', 'idade', 'irmaos_ou_esposa_a_bordo', 'pais_filhos_a_bordo','valor_passagem','homem']] \n",
    "\n",
    "x_train, x_test, y_train, y_test = train_test_split(x, y, test_size=0.3, random_state=101)\n",
    "\n",
    "modelo = LogisticRegression()\n",
    "modelo.fit(x_train,y_train)"
   ]
  },
  {
   "cell_type": "code",
   "execution_count": 5,
   "metadata": {},
   "outputs": [
    {
     "name": "stdout",
     "output_type": "stream",
     "text": [
      "              precision    recall  f1-score   support\n",
      "\n",
      "           0       0.65      0.96      0.77       127\n",
      "           1       0.79      0.22      0.35        85\n",
      "\n",
      "    accuracy                           0.67       212\n",
      "   macro avg       0.72      0.59      0.56       212\n",
      "weighted avg       0.71      0.67      0.60       212\n",
      "\n",
      "A acurácia foi 66.51%\n"
     ]
    }
   ],
   "source": [
    "from sklearn.metrics import classification_report\n",
    "from sklearn.metrics import accuracy_score\n",
    "\n",
    "predictions = modelo.predict(x_test)\n",
    "print(classification_report(y_test,predictions))\n",
    "\n",
    "acuracia = accuracy_score(y_test, predictions) * 100\n",
    "print(\"A acurácia foi %.2f%%\" % acuracia)"
   ]
  },
  {
   "cell_type": "code",
   "execution_count": 6,
   "metadata": {},
   "outputs": [
    {
     "data": {
      "text/plain": [
       "array([0, 0, 0, 0, 0, 0, 0, 0, 0, 0, 0, 0, 0, 0, 0, 0, 0, 0, 0, 1, 0, 0,\n",
       "       0, 0, 0, 0, 0, 1, 0, 0, 1, 0, 0, 0, 0, 0, 0, 0, 0, 0, 0, 0, 0, 0,\n",
       "       0, 0, 0, 0, 1, 0, 0, 0, 0, 0, 0, 0, 0, 0, 0, 0, 0, 0, 0, 0, 1, 0,\n",
       "       0, 1, 1, 0, 0, 0, 0, 0, 0, 0, 0, 0, 1, 0, 0, 0, 0, 0, 0, 1, 0, 0,\n",
       "       0, 0, 0, 0, 0, 1, 0, 0, 1, 0, 0, 0, 0, 0, 0, 0, 0, 1, 0, 0, 0, 0,\n",
       "       0, 0, 0, 0, 0, 0, 0, 1, 0, 0, 0, 0, 0, 0, 0, 0, 0, 0, 0, 0, 0, 0,\n",
       "       0, 0, 0, 0, 0, 0, 1, 0, 0, 0, 0, 1, 1, 0, 0, 1, 0, 0, 0, 0, 0, 0,\n",
       "       0, 0, 0, 0, 0, 0, 1, 0, 0, 0, 0, 0, 1, 0, 0, 0, 0, 0, 0, 0, 0, 0,\n",
       "       0, 0, 0, 0, 0, 0, 1, 0, 0, 0, 0, 0, 0, 0, 0, 0, 0, 0, 0, 1, 0, 0,\n",
       "       0, 0, 1, 0, 1, 0, 0, 0, 1, 0, 0, 0, 0, 0], dtype=uint8)"
      ]
     },
     "execution_count": 6,
     "metadata": {},
     "output_type": "execute_result"
    }
   ],
   "source": [
    "##predições para base de teste\n",
    "predictions\n"
   ]
  },
  {
   "cell_type": "markdown",
   "metadata": {},
   "source": [
    "### EXEMPLO DE COMO SABER SE ALGUEM IRIA SOBREVIVER"
   ]
  },
  {
   "cell_type": "code",
   "execution_count": 7,
   "metadata": {},
   "outputs": [
    {
     "name": "stdout",
     "output_type": "stream",
     "text": [
      "Esse cliente sobreviveu\n",
      "Chance de esse passageiro não sobreviver 0.3429724078835913  - Chance de esse passageiro sobreviver 0.6570275921164087\n"
     ]
    }
   ],
   "source": [
    "classe_da_passagem = 3\n",
    "\n",
    "idade = 25\n",
    "\n",
    "irmaos_ou_esposa_a_bordo = 0\n",
    "\n",
    "pais_filhos_a_bordo = 0\n",
    "\n",
    "valor_passagem = 712833.00\n",
    "\n",
    "homem = 1\n",
    "\n",
    "passageiro = np.array([classe_da_passagem, idade, irmaos_ou_esposa_a_bordo,pais_filhos_a_bordo,valor_passagem,homem]).reshape(1,-1)\n",
    "\n",
    "predição = modelo.predict(passageiro)\n",
    "\n",
    "if predição == 1 :\n",
    "    print(\"Esse cliente sobreviveu\")\n",
    "else:\n",
    "    print(\"Esse cliente não sobreviveu\")\n",
    "    \n",
    "    \n",
    "probability = modelo.predict_proba(passageiro)\n",
    "print(\"Chance de esse passageiro não sobreviver\",probability[0][0],\" - Chance de esse passageiro sobreviver\",probability[0][1])"
   ]
  },
  {
   "cell_type": "markdown",
   "metadata": {},
   "source": [
    "### se você fosse obrigado a embarcar no Titanic após a análise feita no item anterior quais escolhas você faria?\n"
   ]
  },
  {
   "cell_type": "code",
   "execution_count": 8,
   "metadata": {},
   "outputs": [
    {
     "name": "stdout",
     "output_type": "stream",
     "text": [
      "[[-1.71368926e-03 -1.87728909e-02 -2.59707456e-04 -1.38101415e-05\n",
      "   1.57953055e-06 -8.88116607e-04]] ['classe_da_passagem' 'idade' 'irmaos_ou_esposa_a_bordo'\n",
      " 'pais_filhos_a_bordo' 'valor_passagem' 'homem']\n",
      "[-0.00051403]\n"
     ]
    }
   ],
   "source": [
    "print(modelo.coef_,np.array(x.columns))\n",
    "print(modelo.intercept_)"
   ]
  },
  {
   "cell_type": "markdown",
   "metadata": {},
   "source": [
    "### Ao análisar os coeficientes dado pelo algoritimo, vemos que para que o algoritimo classifique o passageiro como sobrevivente, o coeficiente \"valor_passsagem\" esta fazendo com que o algoritimo dente a positivo...\n",
    "\n",
    "### Se eu fosse obrigado a embarcar no Titanic, eu iria pagar o valor mais caro da passagem, visto que ele esta fazendo com que o valor da classificação suba, aumentando as chances de um individuo sobreviver, como mostrado acima em uma entrada de um passageiro qualquer."
   ]
  },
  {
   "cell_type": "markdown",
   "metadata": {},
   "source": [
    "###  3) se por alguma questão ética, a coluna ‘sobrevivente’ não tivesse sido disponibilizada, o você faria para tentar obter essa classificação? Mostre os resultados encontrados\n",
    "\n",
    "\n",
    "\n",
    "### para tal pergunta, o ideial seria separar os dados em clusters, a fim de obter em qual clusters os passageiros se encontram, e atráves de um dado em específico ja conhecido, ou \"chutes\" para que consiguimos  descobrir em qual clusters estão os sobreviventes ou não sobreviventes\n",
    "\n",
    "### Ao usar o Kmeans como modelo, foi feito a Função elbow para determinar o número de cluster necessario, chegando a conclusão de que 3 clusters são ideias, porém, estamos querendo saber se sobreviveu ou se não sobreviveum, por isso foram usandos 2 clusters, usando o algoritimo e seperando, deverá ser feito a análise a fim de determinar quais sobreviveram e morreram, para saber qual clusters estão os sobreviventes e os não sobreviventes."
   ]
  },
  {
   "cell_type": "code",
   "execution_count": 9,
   "metadata": {},
   "outputs": [
    {
     "data": {
      "text/plain": [
       "53477043708782.65"
      ]
     },
     "execution_count": 9,
     "metadata": {},
     "output_type": "execute_result"
    }
   ],
   "source": [
    "from sklearn.cluster import KMeans\n",
    "kmeans = KMeans(n_clusters=2)\n",
    "kmeans.fit(x)\n",
    "kmeans.inertia_\n"
   ]
  },
  {
   "cell_type": "code",
   "execution_count": 10,
   "metadata": {},
   "outputs": [
    {
     "data": {
      "text/plain": [
       "Text(0, 0.5, 'Função Elbow')"
      ]
     },
     "execution_count": 10,
     "metadata": {},
     "output_type": "execute_result"
    },
    {
     "data": {
      "image/png": "[encoded data removed]",
      "text/plain": [
       "<Figure size 432x288 with 1 Axes>"
      ]
     },
     "metadata": {
      "needs_background": "light"
     },
     "output_type": "display_data"
    }
   ],
   "source": [
    "\n",
    "plt.plot([2, 3, 4, 6,7],[53477043708782.65, 19208434145888.85, 7069923154584.097, 2425827888993.6035,1596869743355.3962\n",
    "])\n",
    "plt.xlabel('k')\n",
    "plt.ylabel('Função Elbow')"
   ]
  },
  {
   "cell_type": "markdown",
   "metadata": {},
   "source": [
    "### se soubessemos um passageiro, poderia ser feito a seguinte análise, mas somente para esse caso.\n",
    "\n",
    "### sabemos que a linha 2 da base o passageiro sobreviveu, logo após, poderia ser feito a predição do kmens para o mesmo, e descoberto qual clusters ele está presente, podendo supor que os membros daquele clusters provalvelmente sobreviveram."
   ]
  }
 ],
 "metadata": {
  "kernelspec": {
   "display_name": "Python 3",
   "language": "python",
   "name": "python3"
  },
  "language_info": {
   "codemirror_mode": {
    "name": "ipython",
    "version": 3
   },
   "file_extension": ".py",
   "mimetype": "text/x-python",
   "name": "python",
   "nbconvert_exporter": "python",
   "pygments_lexer": "ipython3",
   "version": "3.8.8"
  }
 },
 "nbformat": 4,
 "nbformat_minor": 1
}
