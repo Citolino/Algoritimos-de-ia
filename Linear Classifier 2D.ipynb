{
 "cells": [
  {
   "cell_type": "markdown",
   "metadata": {},
   "source": [
    "## Classificador linear"
   ]
  },
  {
   "cell_type": "code",
   "execution_count": 2,
   "metadata": {},
   "outputs": [],
   "source": [
    "import numpy as np\n",
    "import pandas as pd\n",
    "import matplotlib.pyplot as plt\n",
    "%matplotlib inline"
   ]
  },
  {
   "cell_type": "markdown",
   "metadata": {},
   "source": [
    "## Base de dados :"
   ]
  },
  {
   "cell_type": "code",
   "execution_count": 3,
   "metadata": {},
   "outputs": [
    {
     "name": "stdout",
     "output_type": "stream",
     "text": [
      "                0            1             2            3          4\n",
      "0    sepal.length  sepal.width  petal.length  petal.width    variety\n",
      "1             5.1          3.5           1.4           .2     Setosa\n",
      "2             4.9            3           1.4           .2     Setosa\n",
      "3             4.7          3.2           1.3           .2     Setosa\n",
      "4             4.6          3.1           1.5           .2     Setosa\n",
      "..            ...          ...           ...          ...        ...\n",
      "146           6.7            3           5.2          2.3  Virginica\n",
      "147           6.3          2.5             5          1.9  Virginica\n",
      "148           6.5            3           5.2            2  Virginica\n",
      "149           6.2          3.4           5.4          2.3  Virginica\n",
      "150           5.9            3           5.1          1.8  Virginica\n",
      "\n",
      "[151 rows x 5 columns]\n"
     ]
    }
   ],
   "source": [
    "data = pd.read_csv('https://gist.githubusercontent.com/netj/8836201/raw/6f9306ad21398ea43cba4f7d537619d0e07d5ae3/iris.csv',header = None)\n",
    "print(data)\n",
    "\n"
   ]
  },
  {
   "cell_type": "markdown",
   "metadata": {},
   "source": [
    "## Transformação das classes :"
   ]
  },
  {
   "cell_type": "code",
   "execution_count": 4,
   "metadata": {},
   "outputs": [
    {
     "name": "stdout",
     "output_type": "stream",
     "text": [
      "       0    1    2    3  4\n",
      "1    5.1  3.5  1.4   .2  1\n",
      "2    4.9    3  1.4   .2  1\n",
      "3    4.7  3.2  1.3   .2  1\n",
      "4    4.6  3.1  1.5   .2  1\n",
      "5      5  3.6  1.4   .2  1\n",
      "..   ...  ...  ...  ... ..\n",
      "96   5.7    3  4.2  1.2  1\n",
      "97   5.7  2.9  4.2  1.3  1\n",
      "98   6.2  2.9  4.3  1.3  1\n",
      "99   5.1  2.5    3  1.1  1\n",
      "100  5.7  2.8  4.1  1.3  1\n",
      "\n",
      "[100 rows x 5 columns]\n"
     ]
    }
   ],
   "source": [
    "data = data[1:101]\n",
    "data[4] = np.where(data.iloc[:, -1]=='Iris-setosa', -1, 1)\n",
    "print(data)"
   ]
  },
  {
   "cell_type": "markdown",
   "metadata": {},
   "source": [
    "## Preparação da base de dados para utilização no classificador :"
   ]
  },
  {
   "cell_type": "code",
   "execution_count": 5,
   "metadata": {},
   "outputs": [
    {
     "name": "stdout",
     "output_type": "stream",
     "text": [
      "[[1.0 '5.1' '1.4']\n",
      " [1.0 '4.9' '1.4']\n",
      " [1.0 '4.7' '1.3']\n",
      " [1.0 '4.6' '1.5']\n",
      " [1.0 '5' '1.4']\n",
      " [1.0 '5.4' '1.7']\n",
      " [1.0 '4.6' '1.4']\n",
      " [1.0 '5' '1.5']\n",
      " [1.0 '4.4' '1.4']\n",
      " [1.0 '4.9' '1.5']]\n"
     ]
    }
   ],
   "source": [
    "xo = np.ones(100)\n",
    "\n",
    "features = np.asmatrix([xo, data[0] , data[2]])\n",
    "\n",
    "features = features.transpose()\n",
    "\n",
    "print(features[:10,:])"
   ]
  },
  {
   "cell_type": "code",
   "execution_count": 6,
   "metadata": {},
   "outputs": [
    {
     "name": "stdout",
     "output_type": "stream",
     "text": [
      "[1 1 1 1 1 1 1 1 1 1 1 1 1 1 1 1 1 1 1 1 1 1 1 1 1 1 1 1 1 1 1 1 1 1 1 1 1\n",
      " 1 1 1 1 1 1 1 1 1 1 1 1 1 1 1 1 1 1 1 1 1 1 1 1 1 1 1 1 1 1 1 1 1 1 1 1 1\n",
      " 1 1 1 1 1 1 1 1 1 1 1 1 1 1 1 1 1 1 1 1 1 1 1 1 1 1]\n"
     ]
    }
   ],
   "source": [
    "labels = np.array(data[4])\n",
    "print(labels[:100])"
   ]
  },
  {
   "cell_type": "code",
   "execution_count": 22,
   "metadata": {},
   "outputs": [
    {
     "data": {
      "text/plain": [
       "matrix([['1.4'],\n",
       "        ['1.4'],\n",
       "        ['1.3'],\n",
       "        ['1.5'],\n",
       "        ['1.4'],\n",
       "        ['1.7'],\n",
       "        ['1.4'],\n",
       "        ['1.5'],\n",
       "        ['1.4'],\n",
       "        ['1.5'],\n",
       "        ['1.5'],\n",
       "        ['1.6'],\n",
       "        ['1.4'],\n",
       "        ['1.1'],\n",
       "        ['1.2'],\n",
       "        ['1.5'],\n",
       "        ['1.3'],\n",
       "        ['1.4'],\n",
       "        ['1.7'],\n",
       "        ['1.5'],\n",
       "        ['1.7'],\n",
       "        ['1.5'],\n",
       "        ['1'],\n",
       "        ['1.7'],\n",
       "        ['1.9'],\n",
       "        ['1.6'],\n",
       "        ['1.6'],\n",
       "        ['1.5'],\n",
       "        ['1.4'],\n",
       "        ['1.6'],\n",
       "        ['1.6'],\n",
       "        ['1.5'],\n",
       "        ['1.5'],\n",
       "        ['1.4'],\n",
       "        ['1.5'],\n",
       "        ['1.2'],\n",
       "        ['1.3'],\n",
       "        ['1.4'],\n",
       "        ['1.3'],\n",
       "        ['1.5'],\n",
       "        ['1.3'],\n",
       "        ['1.3'],\n",
       "        ['1.3'],\n",
       "        ['1.6'],\n",
       "        ['1.9'],\n",
       "        ['1.4'],\n",
       "        ['1.6'],\n",
       "        ['1.4'],\n",
       "        ['1.5'],\n",
       "        ['1.4'],\n",
       "        ['4.7'],\n",
       "        ['4.5'],\n",
       "        ['4.9'],\n",
       "        ['4'],\n",
       "        ['4.6'],\n",
       "        ['4.5'],\n",
       "        ['4.7'],\n",
       "        ['3.3'],\n",
       "        ['4.6'],\n",
       "        ['3.9'],\n",
       "        ['3.5'],\n",
       "        ['4.2'],\n",
       "        ['4'],\n",
       "        ['4.7'],\n",
       "        ['3.6'],\n",
       "        ['4.4'],\n",
       "        ['4.5'],\n",
       "        ['4.1'],\n",
       "        ['4.5'],\n",
       "        ['3.9'],\n",
       "        ['4.8'],\n",
       "        ['4'],\n",
       "        ['4.9'],\n",
       "        ['4.7'],\n",
       "        ['4.3'],\n",
       "        ['4.4'],\n",
       "        ['4.8'],\n",
       "        ['5'],\n",
       "        ['4.5'],\n",
       "        ['3.5'],\n",
       "        ['3.8'],\n",
       "        ['3.7'],\n",
       "        ['3.9'],\n",
       "        ['5.1'],\n",
       "        ['4.5'],\n",
       "        ['4.5'],\n",
       "        ['4.7'],\n",
       "        ['4.4'],\n",
       "        ['4.1'],\n",
       "        ['4'],\n",
       "        ['4.4'],\n",
       "        ['4.6'],\n",
       "        ['4'],\n",
       "        ['3.3'],\n",
       "        ['4.2'],\n",
       "        ['4.2'],\n",
       "        ['4.2'],\n",
       "        ['4.3'],\n",
       "        ['3'],\n",
       "        ['4.1']], dtype=object)"
      ]
     },
     "execution_count": 22,
     "metadata": {},
     "output_type": "execute_result"
    }
   ],
   "source": [
    "features[:,2]"
   ]
  },
  {
   "cell_type": "markdown",
   "metadata": {},
   "source": [
    "## Visualização das classes :"
   ]
  },
  {
   "cell_type": "code",
   "execution_count": 28,
   "metadata": {
    "scrolled": true
   },
   "outputs": [
    {
     "data": {
      "image/png": "[encoded data removed]",
      "text/plain": [
       "<Figure size 432x288 with 1 Axes>"
      ]
     },
     "metadata": {
      "needs_background": "light"
     },
     "output_type": "display_data"
    }
   ],
   "source": [
    "plt.scatter([features[:50,1]],[features[:50,2]], marker='o', label='setosa')\n",
    "plt.scatter([features[50:,1]], [features[50:,2]], marker='x', label='versicolor')\n",
    "plt.xlabel('petal length')\n",
    "plt.ylabel('sepal length')\n",
    "plt.legend()\n",
    "plt.show()"
   ]
  },
  {
   "cell_type": "markdown",
   "metadata": {},
   "source": [
    "## Inicialização e parâmetros do classificador :"
   ]
  },
  {
   "cell_type": "code",
   "execution_count": 29,
   "metadata": {},
   "outputs": [
    {
     "name": "stdout",
     "output_type": "stream",
     "text": [
      "Inicializacao dos coeficientes w do classificador = [[-0.97152648 -1.24277488  0.2457341 ]]\n"
     ]
    }
   ],
   "source": [
    "#w = np.zeros(shape=(1, features.shape[1]))\n",
    "\n",
    "w = np.random.randn(features.shape[1]).reshape(1,3)\n",
    "\n",
    "misclassified_ = [] \n",
    "\n",
    "num_iter = 10\n",
    "\n",
    "print('Inicializacao dos coeficientes w do classificador =', w)"
   ]
  },
  {
   "cell_type": "markdown",
   "metadata": {},
   "source": [
    "## Algoritmo classificador utilizando o Perceptron :"
   ]
  },
  {
   "cell_type": "code",
   "execution_count": 31,
   "metadata": {},
   "outputs": [
    {
     "ename": "TypeError",
     "evalue": "only size-1 arrays can be converted to Python scalars",
     "output_type": "error",
     "traceback": [
      "\u001b[1;31m---------------------------------------------------------------------------\u001b[0m",
      "\u001b[1;31mTypeError\u001b[0m                                 Traceback (most recent call last)",
      "\u001b[1;32m<ipython-input-31-2711fafb6e0a>\u001b[0m in \u001b[0;36m<module>\u001b[1;34m\u001b[0m\n\u001b[0;32m      5\u001b[0m     \u001b[1;32mfor\u001b[0m \u001b[0mx\u001b[0m\u001b[1;33m,\u001b[0m \u001b[0mlabel\u001b[0m \u001b[1;32min\u001b[0m \u001b[0mzip\u001b[0m\u001b[1;33m(\u001b[0m\u001b[0mfeatures\u001b[0m\u001b[1;33m,\u001b[0m \u001b[0mlabels\u001b[0m\u001b[1;33m)\u001b[0m\u001b[1;33m:\u001b[0m\u001b[1;33m\u001b[0m\u001b[1;33m\u001b[0m\u001b[0m\n\u001b[0;32m      6\u001b[0m \u001b[1;33m\u001b[0m\u001b[0m\n\u001b[1;32m----> 7\u001b[1;33m         \u001b[0my\u001b[0m \u001b[1;33m=\u001b[0m \u001b[0mnp\u001b[0m\u001b[1;33m.\u001b[0m\u001b[0mdot\u001b[0m\u001b[1;33m(\u001b[0m\u001b[0mfloat\u001b[0m\u001b[1;33m(\u001b[0m\u001b[0mw\u001b[0m\u001b[1;33m)\u001b[0m\u001b[1;33m,\u001b[0m \u001b[0mx\u001b[0m\u001b[1;33m.\u001b[0m\u001b[0mtranspose\u001b[0m\u001b[1;33m(\u001b[0m\u001b[1;33m)\u001b[0m\u001b[1;33m)\u001b[0m\u001b[1;33m\u001b[0m\u001b[1;33m\u001b[0m\u001b[0m\n\u001b[0m\u001b[0;32m      8\u001b[0m \u001b[1;33m\u001b[0m\u001b[0m\n\u001b[0;32m      9\u001b[0m         \u001b[1;31m#perceptron:\u001b[0m\u001b[1;33m\u001b[0m\u001b[1;33m\u001b[0m\u001b[1;33m\u001b[0m\u001b[0m\n",
      "\u001b[1;31mTypeError\u001b[0m: only size-1 arrays can be converted to Python scalars"
     ]
    }
   ],
   "source": [
    "for epoch in range(num_iter):\n",
    "    \n",
    "    misclassified = 0\n",
    "    \n",
    "    for x, label in zip(features, labels):\n",
    "        \n",
    "        y = np.dot(w, x.transpose())\n",
    "        \n",
    "        #perceptron:\n",
    "        \n",
    "        target = 1.0 if (y > 0) else -1.0\n",
    "        \n",
    "        #\n",
    "        \n",
    "        delta = (label - target)\n",
    "        \n",
    "        if(delta):\n",
    "            misclassified += 1\n",
    "            w += label * x\n",
    "            \n",
    "    misclassified_.append(misclassified)\n",
    "\n",
    "epochs = np.arange(1, num_iter+1)\n",
    "\n",
    "print('Coeficientes w do classificador =', w)"
   ]
  },
  {
   "cell_type": "markdown",
   "metadata": {},
   "source": [
    "## Erro de classificação :"
   ]
  },
  {
   "cell_type": "code",
   "execution_count": 39,
   "metadata": {
    "scrolled": true
   },
   "outputs": [
    {
     "data": {
      "image/png": "[encoded data removed]",
      "text/plain": [
       "<Figure size 432x288 with 1 Axes>"
      ]
     },
     "metadata": {
      "needs_background": "light"
     },
     "output_type": "display_data"
    }
   ],
   "source": [
    "plt.plot(epochs, np.array(misclassified_))\n",
    "plt.xlabel('epochs')\n",
    "plt.ylabel('errors')\n",
    "plt.show()"
   ]
  },
  {
   "cell_type": "markdown",
   "metadata": {},
   "source": [
    "## Visualização do classificador :"
   ]
  },
  {
   "cell_type": "code",
   "execution_count": 40,
   "metadata": {},
   "outputs": [
    {
     "data": {
      "image/png": "[encoded data removed]",
      "text/plain": [
       "<Figure size 432x288 with 1 Axes>"
      ]
     },
     "metadata": {
      "needs_background": "light"
     },
     "output_type": "display_data"
    }
   ],
   "source": [
    "plt.scatter(np.array(features[:50,1]), np.array(features[:50,2]), marker='o', label='setosa')\n",
    "plt.scatter(np.array(features[50:,1]), np.array(features[50:,2]), marker='x', label='versicolor')\n",
    "plt.plot((np.array(features[:,1])), -w[0][0]/w[0][2]-w[0][1]/w[0][2]*(np.array(features[:,1])), label='classifier')\n",
    "plt.xlabel('petal length')\n",
    "plt.ylabel('sepal length')\n",
    "plt.legend()\n",
    "plt.show()"
   ]
  },
  {
   "cell_type": "code",
   "execution_count": 1,
   "metadata": {},
   "outputs": [
    {
     "ename": "NameError",
     "evalue": "name 'features' is not defined",
     "output_type": "error",
     "traceback": [
      "\u001b[1;31m---------------------------------------------------------------------------\u001b[0m",
      "\u001b[1;31mNameError\u001b[0m                                 Traceback (most recent call last)",
      "\u001b[1;32m<ipython-input-1-26e2e569cbb5>\u001b[0m in \u001b[0;36m<module>\u001b[1;34m\u001b[0m\n\u001b[1;32m----> 1\u001b[1;33m \u001b[0mfeatures\u001b[0m\u001b[1;33m[\u001b[0m\u001b[1;33m:\u001b[0m\u001b[1;33m,\u001b[0m\u001b[1;36m1\u001b[0m\u001b[1;33m]\u001b[0m\u001b[1;33m\u001b[0m\u001b[1;33m\u001b[0m\u001b[0m\n\u001b[0m",
      "\u001b[1;31mNameError\u001b[0m: name 'features' is not defined"
     ]
    }
   ],
   "source": [
    "features[:,1]"
   ]
  },
  {
   "cell_type": "code",
   "execution_count": null,
   "metadata": {},
   "outputs": [],
   "source": []
  }
 ],
 "metadata": {
  "kernelspec": {
   "display_name": "Python 3",
   "language": "python",
   "name": "python3"
  },
  "language_info": {
   "codemirror_mode": {
    "name": "ipython",
    "version": 3
   },
   "file_extension": ".py",
   "mimetype": "text/x-python",
   "name": "python",
   "nbconvert_exporter": "python",
   "pygments_lexer": "ipython3",
   "version": "3.8.8"
  }
 },
 "nbformat": 4,
 "nbformat_minor": 4
}
