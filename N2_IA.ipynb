{
 "cells": [
  {
   "cell_type": "markdown",
   "id": "ca9f74b7",
   "metadata": {},
   "source": [
    "### CRIANDO O GRAPH"
   ]
  },
  {
   "cell_type": "code",
   "execution_count": 6,
   "id": "c7c82757",
   "metadata": {},
   "outputs": [],
   "source": [
    "graph = {\n",
    "    1:{2:20, 8:29, 13:37, 12:29},\n",
    "    2:{3:25, 8:28, 12:39, 1:20},\n",
    "    3:{4:25, 13:54, 8:30, 2:25},\n",
    "    4:{7:42, 6:32, 5:39, 10:33, 14:56, 9:23, 3:25},\n",
    "    5:{4:39, 6:12, 7:26, 10:19},\n",
    "    6:{4:32, 7:17, 11:30, 5:12, 10:35},\n",
    "    7:{4:42, 6:17, 5:26, 11:38},\n",
    "    8:{1:29, 2:28, 3:30, 13:22, 12:25},\n",
    "    9:{4:23, 10:26, 14:37, 16:43, 13:34},\n",
    "    10:{4:33, 6:35, 5:19, 11:24, 15:19, 14:30, 9:26},\n",
    "    11:{6:30, 7:38, 10:24, 15:26, 18:36},\n",
    "    12:{1:29, 2:39, 8:25, 13:27, 16:43},\n",
    "    13:{12:27, 1:37, 8:22, 3:54, 9:34, 14:24, 16:19},\n",
    "    14:{13:24, 9:37, 4:56, 10:30, 15:20, 17:17, 16:19},\n",
    "    15:{10:19, 11:26, 18:21, 17:18, 14:20},\n",
    "    16:{12:43, 13:19, 9:43, 14:19, 17:26},\n",
    "    17:{16:26, 14:17, 15:18, 18:15},\n",
    "    18:{17:15, 15:21, 11:36},\n",
    "}"
   ]
  },
  {
   "cell_type": "markdown",
   "id": "a93e9ff7",
   "metadata": {},
   "source": [
    "### FUNCÃO PARA CALCULAR O CUSTO DO CAMINHO"
   ]
  },
  {
   "cell_type": "code",
   "execution_count": 7,
   "id": "b41d165c",
   "metadata": {},
   "outputs": [],
   "source": [
    "def calcularCusto(caminho):    \n",
    "    custo = 0\n",
    "    for i in range(len(caminho)-1):\n",
    "         custo = custo + graph[caminho[i]][caminho[i+1]]\n",
    "   \n",
    "    return custo"
   ]
  },
  {
   "cell_type": "markdown",
   "id": "452218d3",
   "metadata": {},
   "source": [
    "### FUNCÃO PARA REMOVER DO CAMINHO DO VERTEX O CAMINHO JA PASADO"
   ]
  },
  {
   "cell_type": "code",
   "execution_count": 8,
   "id": "fb9a12b5",
   "metadata": {},
   "outputs": [],
   "source": [
    "def removekey(d, keys):\n",
    "    for key in keys:\n",
    "        if key in d:\n",
    "            del d[key]\n",
    "    return d"
   ]
  },
  {
   "cell_type": "markdown",
   "id": "358e9a54",
   "metadata": {},
   "source": [
    "### DFS"
   ]
  },
  {
   "cell_type": "code",
   "execution_count": 13,
   "id": "90b83451",
   "metadata": {},
   "outputs": [],
   "source": [
    "def dfs_paths(graph, start, goal):\n",
    "    \n",
    "    stack = [(start, [start])]\n",
    "    # CAMINHOS ENCONTRADOS\n",
    "    paths = {}\n",
    "    while stack:\n",
    "        (vertex, path) = stack.pop()\n",
    "        for next in removekey(graph[vertex], path):\n",
    "            if next == goal:\n",
    "                # CRIO O DICIONARIO CHAVE CUSTO TOTAL, VALOR O CAMINHO\n",
    "                paths[calcularCusto(path + [next])] = (path + [next])\n",
    "            else:\n",
    "                stack.append((next, path + [next]))\n",
    "    \n",
    "   #ORDENO\n",
    "    auxiliarOrdenar = {}\n",
    "    for x in sorted(paths):\n",
    "        auxiliarOrdenar[x] = paths[x]\n",
    "    \n",
    "    paths = auxiliarOrdenar\n",
    "\n",
    "    #RETORNO OS 5 MELHORES\n",
    "    retorno = {}\n",
    "    count = 0\n",
    "    for X in paths:\n",
    "        if count < 5:\n",
    "            retorno[X] = paths[X]\n",
    "            count = count +1\n",
    "        else:\n",
    "            break\n",
    "    return retorno"
   ]
  },
  {
   "cell_type": "code",
   "execution_count": 14,
   "id": "5ff5f90b",
   "metadata": {
    "scrolled": true
   },
   "outputs": [
    {
     "name": "stdout",
     "output_type": "stream",
     "text": [
      "{29: [1, 8], 48: [1, 2, 8], 54: [1, 12, 8], 59: [1, 13, 8], 78: [1, 12, 13, 8]}\n"
     ]
    }
   ],
   "source": [
    "print(dfs_paths(graph, 1, 8))"
   ]
  },
  {
   "cell_type": "code",
   "execution_count": null,
   "id": "d2640e66",
   "metadata": {},
   "outputs": [],
   "source": []
  }
 ],
 "metadata": {
  "kernelspec": {
   "display_name": "Python 3",
   "language": "python",
   "name": "python3"
  },
  "language_info": {
   "codemirror_mode": {
    "name": "ipython",
    "version": 3
   },
   "file_extension": ".py",
   "mimetype": "text/x-python",
   "name": "python",
   "nbconvert_exporter": "python",
   "pygments_lexer": "ipython3",
   "version": "3.8.8"
  }
 },
 "nbformat": 4,
 "nbformat_minor": 5
}
